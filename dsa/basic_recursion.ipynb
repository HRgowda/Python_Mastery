{
 "cells": [
  {
   "cell_type": "code",
   "execution_count": 1,
   "id": "bcd547b0-54c4-4a3b-8daa-4f57bcbbfe5d",
   "metadata": {},
   "outputs": [
    {
     "name": "stdout",
     "output_type": "stream",
     "text": [
      "Hemanth\n",
      "Hemanth\n",
      "Hemanth\n",
      "Hemanth\n",
      "Hemanth\n"
     ]
    }
   ],
   "source": [
    "# Print names N time using recursion\n",
    "def printName(i, n):\n",
    "    if (i > n) : return\n",
    "    print(\"Hemanth\")\n",
    "    printName(i+1, n)\n",
    "printName(1, 5)"
   ]
  },
  {
   "cell_type": "code",
   "execution_count": 3,
   "id": "4a6f6a4b-4167-4ebb-bc10-c0ec462f3bc2",
   "metadata": {},
   "outputs": [
    {
     "name": "stdout",
     "output_type": "stream",
     "text": [
      "1\n",
      "2\n",
      "3\n",
      "4\n",
      "5\n"
     ]
    }
   ],
   "source": [
    "# Print 1 to N \n",
    "def printN(i, n):\n",
    "    if i > n : return\n",
    "    print(i)\n",
    "    printN(i+1, n)\n",
    "printN(1, 5)"
   ]
  },
  {
   "cell_type": "code",
   "execution_count": 4,
   "id": "ea812c35-1a8b-43a1-a8c1-d0258553df73",
   "metadata": {},
   "outputs": [
    {
     "name": "stdout",
     "output_type": "stream",
     "text": [
      "5\n",
      "4\n",
      "3\n",
      "2\n",
      "1\n"
     ]
    }
   ],
   "source": [
    "# Print N to 1 \n",
    "def print1(n, i):\n",
    "    if n < i : return\n",
    "    print(n)\n",
    "    print1(n-1, i)\n",
    "print1(5, 1)"
   ]
  },
  {
   "cell_type": "code",
   "execution_count": 11,
   "id": "fe4ee9c7-a08c-45bc-894e-9bcb7c73f3cf",
   "metadata": {},
   "outputs": [
    {
     "data": {
      "text/plain": [
       "15"
      ]
     },
     "execution_count": 11,
     "metadata": {},
     "output_type": "execute_result"
    }
   ],
   "source": [
    "# Sum of first N numbers\n",
    "def sumOf(n):\n",
    "    if n == 0: \n",
    "        return 0\n",
    "    else:\n",
    "        return n + sumOf(n - 1)\n",
    "sumOf(5)\n",
    "\n",
    "# There is a formula for calculating the sume of first n numbers n * (n + 1) // 2"
   ]
  },
  {
   "cell_type": "code",
   "execution_count": 12,
   "id": "af7c5cc4-a9ca-43d7-ba26-484bc5be9bf1",
   "metadata": {},
   "outputs": [
    {
     "data": {
      "text/plain": [
       "120"
      ]
     },
     "execution_count": 12,
     "metadata": {},
     "output_type": "execute_result"
    }
   ],
   "source": [
    "# Factorial\n",
    "def fact(n):\n",
    "    if n == 0 or n == 1:\n",
    "        return 1\n",
    "    else:\n",
    "        return n * fact(n - 1)\n",
    "fact(5)"
   ]
  },
  {
   "cell_type": "code",
   "execution_count": 23,
   "id": "6ec54ac0-a53b-4446-9a46-b6f0b2290fcf",
   "metadata": {},
   "outputs": [
    {
     "name": "stdout",
     "output_type": "stream",
     "text": [
      "Reversed array is:\n",
      "5\n",
      "4\n",
      "3\n",
      "2\n",
      "1\n",
      "\n"
     ]
    }
   ],
   "source": [
    "# Reverse an Array\n",
    "# arr = [1, 2, 3, 4, 5]\n",
    "# new_arr = []\n",
    "# for i in range(len(arr) - 1, -1, -1):\n",
    "#     new_arr.append(arr[i])\n",
    "# print(new_arr)\n",
    "\n",
    "# using recursion\n",
    "def printArr(arr, n):\n",
    "    print(\"Reversed array is:\")\n",
    "    for i in range(n):\n",
    "        print(arr[i])\n",
    "    print()\n",
    "\n",
    "def reverseArr(arr, start, end):\n",
    "    if start < end:\n",
    "        arr[start], arr[end] = arr[end], arr[start]\n",
    "        reverseArr(arr, start + 1, end - 1)\n",
    "        \n",
    "arr1 = [1,2,3,4,5]\n",
    "reverseArr(arr1, 0, len(arr1) - 1)\n",
    "printArr(arr1, len(arr1))"
   ]
  },
  {
   "cell_type": "code",
   "execution_count": 37,
   "id": "d486b339-cb96-4e84-824d-354c710d3f4e",
   "metadata": {},
   "outputs": [
    {
     "data": {
      "text/plain": [
       "True"
      ]
     },
     "execution_count": 37,
     "metadata": {},
     "output_type": "execute_result"
    }
   ],
   "source": [
    "# Palindrome\n",
    "# def isPal(str):\n",
    "#     if str == str[::-1] : return True\n",
    "#     else: return False\n",
    "# isPal(\"ABCDDBA\")\n",
    "\n",
    "def isPal(s, start = 0, end = None):\n",
    "    if end is None:\n",
    "        end = len(s) - 1\n",
    "        \n",
    "    if start >= end:\n",
    "        return True\n",
    "        \n",
    "    if s[start] != s[end]:\n",
    "        return False\n",
    "        \n",
    "    return isPal(s, start + 1, end - 1)\n",
    "\n",
    "isPal(\"amanaplanacanalpanama\")        "
   ]
  },
  {
   "cell_type": "code",
   "execution_count": 45,
   "id": "f98f73e3-0c46-4afa-8c99-d940b32957df",
   "metadata": {},
   "outputs": [
    {
     "data": {
      "text/plain": [
       "8"
      ]
     },
     "execution_count": 45,
     "metadata": {},
     "output_type": "execute_result"
    }
   ],
   "source": [
    "# Fibonacci\n",
    "def fibo(n):\n",
    "    \n",
    "    if n <= 1:\n",
    "        return n\n",
    "    \n",
    "    return fibo(n - 1) + fibo(n - 2) # Formula: Fibonacci(N) = Fibonacci(N - 1) + Fibonacci(N - 2)\n",
    "    \n",
    "fibo(6)  "
   ]
  }
 ],
 "metadata": {
  "kernelspec": {
   "display_name": "Python 3 (ipykernel)",
   "language": "python",
   "name": "python3"
  },
  "language_info": {
   "codemirror_mode": {
    "name": "ipython",
    "version": 3
   },
   "file_extension": ".py",
   "mimetype": "text/x-python",
   "name": "python",
   "nbconvert_exporter": "python",
   "pygments_lexer": "ipython3",
   "version": "3.12.0"
  }
 },
 "nbformat": 4,
 "nbformat_minor": 5
}
