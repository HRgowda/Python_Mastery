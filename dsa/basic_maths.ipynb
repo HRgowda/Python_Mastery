{
 "cells": [
  {
   "cell_type": "code",
   "execution_count": 3,
   "id": "de70e8cd-3355-4cda-a590-b0b2c0b5212e",
   "metadata": {},
   "outputs": [
    {
     "name": "stdout",
     "output_type": "stream",
     "text": [
      "5\n",
      "5\n"
     ]
    }
   ],
   "source": [
    "# Count digits in a number\n",
    "import math\n",
    "num = 45628\n",
    "print(int(math.log10(num) + 1))\n",
    "\n",
    "# or \n",
    "\n",
    "count = 0\n",
    "for i in str(num):\n",
    "    count = count + 1\n",
    "print(count)"
   ]
  },
  {
   "cell_type": "code",
   "execution_count": 6,
   "id": "c32fc5bc-efa9-461b-b388-9b4f378c541c",
   "metadata": {},
   "outputs": [
    {
     "name": "stdin",
     "output_type": "stream",
     "text": [
      " 123\n"
     ]
    },
    {
     "name": "stdout",
     "output_type": "stream",
     "text": [
      "321\n"
     ]
    }
   ],
   "source": [
    "# Reverse a number\n",
    "n = int(input())\n",
    "rev_num = 0\n",
    "while n > 0:\n",
    "    last_digit = n % 10 # to extract the last digit of a number we do modulus operation.\n",
    "    rev_num = (rev_num * 10) + last_digit # to store the reversed number use this formula.\n",
    "    n = n // 10 # to remove the last digit from the number do floor division.\n",
    "print(rev_num)"
   ]
  },
  {
   "cell_type": "code",
   "execution_count": 13,
   "id": "18e032a7-4a7e-4402-8020-c79356737641",
   "metadata": {},
   "outputs": [
    {
     "name": "stdin",
     "output_type": "stream",
     "text": [
      " 526\n"
     ]
    },
    {
     "name": "stdout",
     "output_type": "stream",
     "text": [
      "false\n"
     ]
    }
   ],
   "source": [
    "# Check Palindrome\n",
    "n = int(input())\n",
    "rev_num = 0\n",
    "dup = n # duplicate to store the actual n value\n",
    "while n > 0:\n",
    "    ld = n % 10\n",
    "    rev_num = (rev_num * 10) + ld\n",
    "    n = n // 10\n",
    "if dup == rev_num:\n",
    "    print(\"true\")\n",
    "else:\n",
    "    print(\"false\")"
   ]
  },
  {
   "cell_type": "code",
   "execution_count": 21,
   "id": "ce653db4-444b-4574-b766-41972dd6c5ce",
   "metadata": {},
   "outputs": [
    {
     "name": "stdin",
     "output_type": "stream",
     "text": [
      " 4210819\n"
     ]
    },
    {
     "name": "stdout",
     "output_type": "stream",
     "text": [
      "false\n"
     ]
    }
   ],
   "source": [
    "# Armstrong number: An Amrstrong number is a number that is equal to the sum of its own digits each raised to the power of the number of digits.\n",
    "num = int(input())\n",
    "dup = num\n",
    "sum1 = 0\n",
    "while num > 0:\n",
    "    ld = num % 10\n",
    "    sum1 += ld ** len(str(dup))\n",
    "    num = num // 10\n",
    "if dup == sum1:\n",
    "    print(\"true\")\n",
    "else: \n",
    "    print(\"false\")"
   ]
  },
  {
   "cell_type": "code",
   "execution_count": 28,
   "id": "94cc2c31-e86e-4290-a04a-4026f4fe89cf",
   "metadata": {},
   "outputs": [
    {
     "name": "stdin",
     "output_type": "stream",
     "text": [
      " 3\n"
     ]
    },
    {
     "name": "stdout",
     "output_type": "stream",
     "text": [
      "[1, 3]\n"
     ]
    }
   ],
   "source": [
    "# Print all Divisors of a given Number\n",
    "n = int(input())\n",
    "res = []\n",
    "for i in range(1, n+1):\n",
    "    if n % i == 0: # to check does n divides by i evenly and (i % n) to check does i divides evenly by n \n",
    "        res.append(i)\n",
    "print(res)"
   ]
  },
  {
   "cell_type": "code",
   "execution_count": 31,
   "id": "5fd886fd-3646-4307-9c9b-e9c9d75955e7",
   "metadata": {},
   "outputs": [
    {
     "name": "stdin",
     "output_type": "stream",
     "text": [
      " 10\n"
     ]
    },
    {
     "name": "stdout",
     "output_type": "stream",
     "text": [
      "False\n"
     ]
    }
   ],
   "source": [
    "# Check for prime numbers\n",
    "num = int(input())\n",
    "count = 0\n",
    "for i in range(1, num + 1):\n",
    "    if num % i == 0:\n",
    "        count += 1\n",
    "if count == 2:\n",
    "    print(\"True\")\n",
    "else:\n",
    "    print(\"False\")"
   ]
  },
  {
   "cell_type": "code",
   "execution_count": 35,
   "id": "f9f472b1-2e64-49d7-a014-6b4d7da956bc",
   "metadata": {},
   "outputs": [
    {
     "name": "stdin",
     "output_type": "stream",
     "text": [
      " 9\n",
      " 12\n"
     ]
    },
    {
     "name": "stdout",
     "output_type": "stream",
     "text": [
      "3\n"
     ]
    }
   ],
   "source": [
    "# Find GCD of two numbers\n",
    "n1 = int(input())\n",
    "n2 = int(input())\n",
    "d1 = []\n",
    "d2 = []\n",
    "for i in range(1, n1 + 1):\n",
    "    if n1 % i == 0:\n",
    "        d1.append(i)\n",
    "for j in range(1, n2 + 1):\n",
    "    if n2 % j == 0:\n",
    "        d2.append(j)\n",
    "print(max(list(set(d1) & set(d2)))) # here we are using the intersection method"
   ]
  }
 ],
 "metadata": {
  "kernelspec": {
   "display_name": "Python 3 (ipykernel)",
   "language": "python",
   "name": "python3"
  },
  "language_info": {
   "codemirror_mode": {
    "name": "ipython",
    "version": 3
   },
   "file_extension": ".py",
   "mimetype": "text/x-python",
   "name": "python",
   "nbconvert_exporter": "python",
   "pygments_lexer": "ipython3",
   "version": "3.12.0"
  }
 },
 "nbformat": 4,
 "nbformat_minor": 5
}
