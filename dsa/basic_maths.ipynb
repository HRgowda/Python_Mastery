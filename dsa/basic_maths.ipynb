{
 "cells": [
  {
   "cell_type": "code",
   "execution_count": 3,
   "id": "de70e8cd-3355-4cda-a590-b0b2c0b5212e",
   "metadata": {},
   "outputs": [
    {
     "name": "stdout",
     "output_type": "stream",
     "text": [
      "5\n",
      "5\n"
     ]
    }
   ],
   "source": [
    "# Count digits in a number\n",
    "import math\n",
    "num = 45628\n",
    "print(int(math.log10(num) + 1))\n",
    "\n",
    "# or \n",
    "\n",
    "count = 0\n",
    "for i in str(num):\n",
    "    count = count + 1\n",
    "print(count)"
   ]
  },
  {
   "cell_type": "code",
   "execution_count": 6,
   "id": "c32fc5bc-efa9-461b-b388-9b4f378c541c",
   "metadata": {},
   "outputs": [
    {
     "name": "stdin",
     "output_type": "stream",
     "text": [
      " 123\n"
     ]
    },
    {
     "name": "stdout",
     "output_type": "stream",
     "text": [
      "321\n"
     ]
    }
   ],
   "source": [
    "# Reverse a number\n",
    "n = int(input())\n",
    "rev_num = 0\n",
    "while n > 0:\n",
    "    last_digit = n % 10 # to extract the last digit of a number we do modulus operation.\n",
    "    rev_num = (rev_num * 10) + last_digit # to store the reversed number use this formula.\n",
    "    n = n // 10 # to remove the last digit from the number do floor division.\n",
    "print(rev_num)"
   ]
  },
  {
   "cell_type": "code",
   "execution_count": 13,
   "id": "18e032a7-4a7e-4402-8020-c79356737641",
   "metadata": {},
   "outputs": [
    {
     "name": "stdin",
     "output_type": "stream",
     "text": [
      " 526\n"
     ]
    },
    {
     "name": "stdout",
     "output_type": "stream",
     "text": [
      "false\n"
     ]
    }
   ],
   "source": [
    "# Check Palindrome\n",
    "n = int(input())\n",
    "rev_num = 0\n",
    "dup = n # duplicate to store the actual n value\n",
    "while n > 0:\n",
    "    ld = n % 10\n",
    "    rev_num = (rev_num * 10) + ld\n",
    "    n = n // 10\n",
    "if dup == rev_num:\n",
    "    print(\"true\")\n",
    "else:\n",
    "    print(\"false\")"
   ]
  }
 ],
 "metadata": {
  "kernelspec": {
   "display_name": "Python 3 (ipykernel)",
   "language": "python",
   "name": "python3"
  },
  "language_info": {
   "codemirror_mode": {
    "name": "ipython",
    "version": 3
   },
   "file_extension": ".py",
   "mimetype": "text/x-python",
   "name": "python",
   "nbconvert_exporter": "python",
   "pygments_lexer": "ipython3",
   "version": "3.12.0"
  }
 },
 "nbformat": 4,
 "nbformat_minor": 5
}
