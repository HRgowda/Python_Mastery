{
 "cells": [
  {
   "cell_type": "code",
   "execution_count": 3,
   "id": "915a68b5-9610-477e-9226-1f830b8f0f8f",
   "metadata": {},
   "outputs": [],
   "source": [
    "# Encapsulation: Bundling of data ( attributes ) and methods ( functions ) that operates on the data into a single unit.\n",
    "# It is a process of hiding the internal state of an object and making all interactions to be performed through an object's method.\n",
    "# This provides better control over data , prevents accidential modification of data etc.\n",
    "\n",
    "# Ex: Encapsulation is like having a bank account where you cant directly access the bank balance thorugh the account database instead the bank4\n",
    "# provides you some methods ( functions ) such as deposit and withdraw to modify your balance safely.\n",
    "# Here balance is private data and deposit, withdraw are public methods."
   ]
  },
  {
   "cell_type": "code",
   "execution_count": 1,
   "id": "adb9869e-0371-48dd-b465-bc0daa1baed2",
   "metadata": {},
   "outputs": [
    {
     "name": "stdout",
     "output_type": "stream",
     "text": [
      "Hello, im Pitbull\n"
     ]
    }
   ],
   "source": [
    "# Public members : They are accessible anywhere throughout the class and are the default members in python.\n",
    "\n",
    "class Public:\n",
    "    def __init__(self):\n",
    "        self.name = \"Pitbull\" # public attribute\n",
    "        \n",
    "    def display_name(self):\n",
    "        print(f\"Hello, im {self.name}\") # public method\n",
    "\n",
    "c1 = Public()\n",
    "c1.display_name()"
   ]
  },
  {
   "cell_type": "code",
   "execution_count": 1,
   "id": "5a99dbbd-4179-40d4-b605-6824ba47c86b",
   "metadata": {},
   "outputs": [
    {
     "name": "stdout",
     "output_type": "stream",
     "text": [
      "My age is 21\n",
      "21\n"
     ]
    }
   ],
   "source": [
    "# Protected members : They are identified with a single underscore , they are meant to be accessed only within the class or subclass.\n",
    "\n",
    "class Protected:\n",
    "    def __init__(self):\n",
    "        self._age = 21 # Protected memeber\n",
    "\n",
    "class Subclass(Protected):\n",
    "    def display(self):\n",
    "        print(f\"My age is {self._age}\") # accessible in subclass.\n",
    "\n",
    "c1 = Subclass()\n",
    "c1.display()\n",
    "print(c1._age)"
   ]
  },
  {
   "cell_type": "code",
   "execution_count": 3,
   "id": "f365a356-3912-4b05-9184-c81244542f6b",
   "metadata": {},
   "outputs": [
    {
     "name": "stdout",
     "output_type": "stream",
     "text": [
      "My name is Hemanth\n",
      "My name is Hemanth\n",
      "Hemanth\n"
     ]
    },
    {
     "ename": "AttributeError",
     "evalue": "'Private' object has no attribute '__name'",
     "output_type": "error",
     "traceback": [
      "\u001b[1;31m---------------------------------------------------------------------------\u001b[0m",
      "\u001b[1;31mAttributeError\u001b[0m                            Traceback (most recent call last)",
      "Cell \u001b[1;32mIn[3], line 15\u001b[0m\n\u001b[0;32m     13\u001b[0m c1\u001b[38;5;241m.\u001b[39mdisplay()\n\u001b[0;32m     14\u001b[0m \u001b[38;5;28mprint\u001b[39m(c1\u001b[38;5;241m.\u001b[39mdisplay())\n\u001b[1;32m---> 15\u001b[0m \u001b[38;5;28mprint\u001b[39m(\u001b[43mc1\u001b[49m\u001b[38;5;241;43m.\u001b[39;49m\u001b[43m__name\u001b[49m) \u001b[38;5;66;03m# Raises AttributeError\u001b[39;00m\n",
      "\u001b[1;31mAttributeError\u001b[0m: 'Private' object has no attribute '__name'"
     ]
    }
   ],
   "source": [
    "# Private members : They are identified with a double underscore, and cannot be accessed directly from outside of the class . Python uses name mangling\n",
    "# to make private members inaccessible by renaming them internally.\n",
    "\n",
    "class Private:\n",
    "    def __init__(self):\n",
    "        self.__name = \"Hemanth\" # Private attribute\n",
    "    \n",
    "    def display(self):\n",
    "        print(f\"My name is {self.__name}\")\n",
    "        return self.__name # Accessible by public method\n",
    "\n",
    "c1 = Private()\n",
    "c1.display()\n",
    "# print(c1.display())\n",
    "print(c1.__name) # Raises AttributeError"
   ]
  }
 ],
 "metadata": {
  "kernelspec": {
   "display_name": "Python 3 (ipykernel)",
   "language": "python",
   "name": "python3"
  },
  "language_info": {
   "codemirror_mode": {
    "name": "ipython",
    "version": 3
   },
   "file_extension": ".py",
   "mimetype": "text/x-python",
   "name": "python",
   "nbconvert_exporter": "python",
   "pygments_lexer": "ipython3",
   "version": "3.12.0"
  }
 },
 "nbformat": 4,
 "nbformat_minor": 5
}
