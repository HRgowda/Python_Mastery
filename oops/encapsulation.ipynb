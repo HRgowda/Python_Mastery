{
 "cells": [
  {
   "cell_type": "code",
   "execution_count": 3,
   "id": "915a68b5-9610-477e-9226-1f830b8f0f8f",
   "metadata": {},
   "outputs": [],
   "source": [
    "# Encapsulation: Bundling of data ( attributes ) and methods ( functions ) that operates on the data into a single unit.\n",
    "# It is a process of hiding the internal state of an object and making all interactions to be performed through an object's method.\n",
    "# This provides better control over data , prevents accidential modification of data etc.\n",
    "\n",
    "# Ex: Encapsulation is like having a bank account where you cant directly access the bank balance thorugh the account database instead the bank4\n",
    "# provides you some methods ( functions ) such as deposit and withdraw to modify your balance safely.\n",
    "# Here balance is private data and deposit, withdraw are public methods."
   ]
  },
  {
   "cell_type": "code",
   "execution_count": 1,
   "id": "adb9869e-0371-48dd-b465-bc0daa1baed2",
   "metadata": {},
   "outputs": [
    {
     "name": "stdout",
     "output_type": "stream",
     "text": [
      "Hello, im Pitbull\n"
     ]
    }
   ],
   "source": [
    "# Public members : They are accessible anywhere throughout the class and are the default members in python.\n",
    "\n",
    "class Public:\n",
    "    def __init__(self):\n",
    "        self.name = \"Pitbull\" # public attribute\n",
    "        \n",
    "    def display_name(self):\n",
    "        print(f\"Hello, im {self.name}\") # public method\n",
    "\n",
    "c1 = Public()\n",
    "c1.display_name()"
   ]
  },
  {
   "cell_type": "code",
   "execution_count": 6,
   "id": "5a99dbbd-4179-40d4-b605-6824ba47c86b",
   "metadata": {},
   "outputs": [
    {
     "name": "stdout",
     "output_type": "stream",
     "text": [
      "21\n",
      "My age is 21\n",
      "21\n"
     ]
    }
   ],
   "source": [
    "# Protected members : They are identified with a single underscore , they are meant to be accessed only within the class or subclass.\n",
    "\n",
    "class Protected:\n",
    "    def __init__(self):\n",
    "        self._age = 21 # Protected memeber\n",
    "\n",
    "class Subclass(Protected):\n",
    "    def display(self):\n",
    "        print(f\"My age is {self._age}\") # accessible in subclass.\n",
    "\n",
    "c1 = Subclass()\n",
    "c2 = Protected()\n",
    "print(c2._age)  # Not advisible\n",
    "c1.display()\n",
    "print(c1._age)"
   ]
  },
  {
   "cell_type": "code",
   "execution_count": 3,
   "id": "f365a356-3912-4b05-9184-c81244542f6b",
   "metadata": {},
   "outputs": [
    {
     "name": "stdout",
     "output_type": "stream",
     "text": [
      "My name is Hemanth\n",
      "My name is Hemanth\n",
      "Hemanth\n"
     ]
    },
    {
     "ename": "AttributeError",
     "evalue": "'Private' object has no attribute '__name'",
     "output_type": "error",
     "traceback": [
      "\u001b[1;31m---------------------------------------------------------------------------\u001b[0m",
      "\u001b[1;31mAttributeError\u001b[0m                            Traceback (most recent call last)",
      "Cell \u001b[1;32mIn[3], line 15\u001b[0m\n\u001b[0;32m     13\u001b[0m c1\u001b[38;5;241m.\u001b[39mdisplay()\n\u001b[0;32m     14\u001b[0m \u001b[38;5;28mprint\u001b[39m(c1\u001b[38;5;241m.\u001b[39mdisplay())\n\u001b[1;32m---> 15\u001b[0m \u001b[38;5;28mprint\u001b[39m(\u001b[43mc1\u001b[49m\u001b[38;5;241;43m.\u001b[39;49m\u001b[43m__name\u001b[49m) \u001b[38;5;66;03m# Raises AttributeError\u001b[39;00m\n",
      "\u001b[1;31mAttributeError\u001b[0m: 'Private' object has no attribute '__name'"
     ]
    }
   ],
   "source": [
    "# Private members : They are identified with a double underscore, and cannot be accessed directly from outside of the class . Python uses name mangling\n",
    "# to make private members inaccessible by renaming them internally.\n",
    "\n",
    "class Private:\n",
    "    def __init__(self):\n",
    "        self.__name = \"Hemanth\" # Private attribute\n",
    "    \n",
    "    def display(self):\n",
    "        print(f\"My name is {self.__name}\")\n",
    "        return self.__name # Accessible by public method\n",
    "\n",
    "c1 = Private()\n",
    "c1.display()\n",
    "# print(c1.display())\n",
    "print(c1.__name) # Raises AttributeError"
   ]
  },
  {
   "cell_type": "code",
   "execution_count": null,
   "id": "c4febbef-94e4-4901-a6ef-7df4ed384575",
   "metadata": {},
   "outputs": [],
   "source": [
    "# Access modifiers in Python : They are the terms or properties that specify the visibility or accessibilty of the class members ( variables, constructors, methods ).\n",
    "# There are 3 types of access modifiers in python namely:\n",
    "    # 1. Public access modifiers\n",
    "    # 2. Private access modifiers\n",
    "    # 3. Protected access modifiers"
   ]
  },
  {
   "cell_type": "code",
   "execution_count": 4,
   "id": "2c12be2f-6bba-4309-9513-b72d1c3052b0",
   "metadata": {},
   "outputs": [
    {
     "name": "stdout",
     "output_type": "stream",
     "text": [
      "Hemanth\n",
      "List of fields and methods inside object c1 is:  ['__class__', '__delattr__', '__dict__', '__dir__', '__doc__', '__eq__', '__format__', '__ge__', '__getattribute__', '__getstate__', '__gt__', '__hash__', '__init__', '__init_subclass__', '__le__', '__lt__', '__module__', '__ne__', '__new__', '__reduce__', '__reduce_ex__', '__repr__', '__setattr__', '__sizeof__', '__str__', '__subclasshook__', '__weakref__', 'age', 'displayAge', 'name']\n",
      "My age is 21\n"
     ]
    }
   ],
   "source": [
    "# Public access modifiers\n",
    "\n",
    "class Geek:\n",
    "\n",
    "    def __init__(self, name, age):\n",
    "        self.name = name\n",
    "        self.age = age\n",
    "        \n",
    "    def displayAge(self):\n",
    "        print(f\"My age is {self.age}\")\n",
    "\n",
    "c1 = Geek(\"Hemanth\", 21)\n",
    "print(c1.name)\n",
    "print(\"List of fields and methods inside object c1 is: \", dir(c1))\n",
    "c1.displayAge()\n",
    "\n",
    "# Here I have used dir() function to list the available fields and methods inside the object C1 I created and it clearly display's the attribute's name \n",
    "# and age along with the displayAge() method . These members can be accessed from anywhere in the program since they are presented in the list returned\n",
    "# by dir() function."
   ]
  },
  {
   "cell_type": "code",
   "execution_count": 13,
   "id": "e98cdfa4-6d98-4e83-be0e-6ff843c00f21",
   "metadata": {},
   "outputs": [
    {
     "name": "stdout",
     "output_type": "stream",
     "text": [
      "Accessing protected member via subclass\n",
      "Hemanth, 21, 042\n",
      "Hemanth\n",
      "\n",
      "Protected members can be still accessed directly.\n",
      "John\n",
      "Hemanth, 21, 042\n"
     ]
    }
   ],
   "source": [
    "# Protected access modifier's\n",
    "class Student:\n",
    "    \n",
    "    _name = None\n",
    "    _age = None\n",
    "    _roll = None\n",
    "    \n",
    "    def __init__(self, name, age, roll):\n",
    "        self._name = name\n",
    "        self._age = age\n",
    "        self._roll = roll\n",
    "        \n",
    "    def _display(self):\n",
    "        print(f\"{self._name}, {self._age}, {self._roll}\")\n",
    "\n",
    "class Geek(Student):\n",
    "    \n",
    "    def __init(self, name, age, roll):\n",
    "        super().__init__(self, name, age, roll)\n",
    "        \n",
    "    def display(self):\n",
    "        self._display()\n",
    "\n",
    "c1 = Geek(\"Hemanth\", 21, \"042\")\n",
    "print(\"Accessing protected member via subclass\")\n",
    "c1.display()\n",
    "print(c1._name)\n",
    "print()\n",
    "\n",
    "# Protected memebers can be still accessed but not advisible\n",
    "print(\"Protected members can be still accessed directly.\")\n",
    "c2 = Student(\"John\", 21, \"041\")\n",
    "print(c2._name)\n",
    "c1._display()"
   ]
  },
  {
   "cell_type": "code",
   "execution_count": 16,
   "id": "635481c7-08b2-4363-bc3a-fc003be393f2",
   "metadata": {},
   "outputs": [
    {
     "name": "stdout",
     "output_type": "stream",
     "text": [
      "['_Geek__age', '_Geek__display', '_Geek__name', '_Geek__roll', '__class__', '__delattr__', '__dict__', '__dir__', '__doc__', '__eq__', '__format__', '__ge__', '__getattribute__', '__getstate__', '__gt__', '__hash__', '__init__', '__init_subclass__', '__le__', '__lt__', '__module__', '__ne__', '__new__', '__reduce__', '__reduce_ex__', '__repr__', '__setattr__', '__sizeof__', '__str__', '__subclasshook__', '__weakref__', 'displayEverything']\n",
      "Name: Hemanth, Age: 21, Roll: 042\n",
      "Hemanth\n"
     ]
    }
   ],
   "source": [
    "# Private access modifier's.\n",
    "class Geek:\n",
    "    __name = None\n",
    "    __roll = None\n",
    "    __age = None\n",
    "    def __init__(self, name, age, roll):\n",
    "        self.__name = name\n",
    "        self.__age = age\n",
    "        self.__roll = roll\n",
    "    def __display(self):\n",
    "        print(f\"Name: {self.__name}, Age: {self.__age}, Roll: {self.__roll}\")\n",
    "    def displayEverything(self):\n",
    "        self.__display()\n",
    "\n",
    "c1 = Geek(\"Hemanth\", 21, \"042\")\n",
    "print(dir(c1))\n",
    "c1.displayEverything()\n",
    "\n",
    "print(c1._Geek__name) # accessed through name mangling.\n",
    "\n",
    "# However, we can still access private members of a class outside the class. We cannot directly call obj.__name, obj.__age, obj.__branch, \n",
    "# and obj.__displayDetails() because they throw errors. We can notice that in the list of callable fields and methods, __name is saved as \n",
    "# _Geek__name, __age is saved as _Geek__age, __branch is saved as _Geek__branch and __displayDetails() is saved as _Geek__displayDetails(). \n",
    "# This conversion is called as name mangling, where the python interpreter automatically converts any member preceded with two underscores to\n",
    "# _<class name>__<member name>. Hence, we can still call all the supposedly private data members of a class using the above convention.\n"
   ]
  }
 ],
 "metadata": {
  "kernelspec": {
   "display_name": "Python 3 (ipykernel)",
   "language": "python",
   "name": "python3"
  },
  "language_info": {
   "codemirror_mode": {
    "name": "ipython",
    "version": 3
   },
   "file_extension": ".py",
   "mimetype": "text/x-python",
   "name": "python",
   "nbconvert_exporter": "python",
   "pygments_lexer": "ipython3",
   "version": "3.12.0"
  }
 },
 "nbformat": 4,
 "nbformat_minor": 5
}
