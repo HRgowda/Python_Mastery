{
 "cells": [
  {
   "cell_type": "code",
   "execution_count": null,
   "id": "ac670e7a-fd5a-415e-8243-8a6a737de537",
   "metadata": {},
   "outputs": [],
   "source": [
    "# Abstraction is an essential programming concept that hides irrelevant details from the user and only shows the details that are relevant to the user.\n",
    "\n",
    "# Example: We all know that a car will have accelerator, clutch and break where pressing the accelerator increases the speed of car anc pressing the break\n",
    "# slow downs the car but we all dont know the internal mechanism of the car , this is known as abstraction. \n",
    "\n",
    "# It allows programmers to hide complex implementation details and just show the necessary functions and data to the user.\n",
    "\n",
    "# In python to create abstract method and abstract classe's we have to import the \"ABC\" and \"abstractmethod\" classes from abc ( abstract base class ) \n",
    "# library."
   ]
  },
  {
   "cell_type": "code",
   "execution_count": null,
   "id": "2a83e627-26cb-4892-b5b0-ca37687bfb67",
   "metadata": {},
   "outputs": [],
   "source": [
    "# Abstract classes : A class that can't be instantiated on its own but is designed to be blueprint for other classes. It has to be inherited and used in\n",
    "# subclasses.\n",
    "\n",
    "# A class where one or more abstract methods is defined. A method which is declared inside a class and has no implementation is known as abstract method.\n",
    "\n",
    "from abc import ABC, abstractmethod\n",
    "class BaseClass(ABC):\n",
    "    @abstractmethod\n",
    "    def base_method(self):\n",
    "        # empty body\n",
    "        pass"
   ]
  },
  {
   "cell_type": "code",
   "execution_count": 8,
   "id": "2382f612-6f7c-487b-8cc8-e517c47f1b54",
   "metadata": {},
   "outputs": [
    {
     "name": "stdout",
     "output_type": "stream",
     "text": [
      "Engine is not yet started\n",
      "Engine is already running\n"
     ]
    }
   ],
   "source": [
    "# Concrete method: These are the method defined inside the abstract base class which will have complete implementation .These methods are required to \n",
    "# avoid code replication , example in abstract class there may be a method that implementation is to be same for all its subclasses , so we write this \n",
    "# implementation of that method in abstract base class after which we do not need to write the implementation of the concrete method again and again in \n",
    "# the subclasses.\n",
    "from abc import ABC, abstractmethod\n",
    "\n",
    "class BaseClass(ABC):\n",
    "    \n",
    "    def __init__(self, brand, color, started):\n",
    "        self.brand = brand\n",
    "        self.color = color\n",
    "        self.started = started\n",
    "        \n",
    "    def concrete_method(self):\n",
    "        if self.started:\n",
    "            print(\"Engine is already running\")\n",
    "        else:\n",
    "            print(\"Engine is not yet started\")\n",
    "            self.started = True\n",
    "\n",
    "class My_Car(BaseClass):\n",
    "    \n",
    "    def display(self):\n",
    "        super().concrete_method()\n",
    "\n",
    "o1 = BaseClass(\"BMW\", \"Balck\", False)\n",
    "o1.concrete_method()\n",
    "\n",
    "o2 = My_Car(\"BMW M5C\", \"Red\", True)\n",
    "o2.display()"
   ]
  },
  {
   "cell_type": "code",
   "execution_count": 15,
   "id": "ddea798d-fcbb-45b9-a7f9-c4a6f9bd07fb",
   "metadata": {},
   "outputs": [
    {
     "name": "stdout",
     "output_type": "stream",
     "text": [
      "Brand:  Mini cooper\n",
      "Model:  v3\n",
      "Color:  Silver\n",
      "Car stopped...\n",
      "Sunroof not availale\n",
      "\n",
      "Brand:  Range rover\n",
      "Model:  Velar\n",
      "Color:  White\n",
      "Speed up....\n",
      "Sunroof available\n"
     ]
    }
   ],
   "source": [
    "from abc import ABC, abstractmethod\n",
    "\n",
    "class Car(ABC):\n",
    "    \n",
    "    def __init__(self, brand, model, color):\n",
    "        self.brand = brand\n",
    "        self.model = model\n",
    "        self.color = color\n",
    "        \n",
    "    @abstractmethod\n",
    "    def displaydetails(slef):\n",
    "        pass\n",
    "\n",
    "    def accelerate(self):\n",
    "        print(\"Speed up....\")\n",
    "\n",
    "    def break_applied(self):\n",
    "        print(\"Car stopped...\")\n",
    "\n",
    "class Hatchback(Car):\n",
    "    \n",
    "    def displaydetails(self):\n",
    "        print(\"Brand: \", self.brand)\n",
    "        print(\"Model: \", self.model)\n",
    "        print(\"Color: \", self.color)\n",
    "        \n",
    "    def sunroof(self):\n",
    "        print(\"Sunroof not availale\")\n",
    "\n",
    "class Suv(Car):\n",
    "    \n",
    "    def displaydetails(self):\n",
    "        print(\"Brand: \", self.brand)\n",
    "        print(\"Model: \", self.model)\n",
    "        print(\"Color: \", self.color)\n",
    "        \n",
    "    def sunroof(self):\n",
    "        print(\"Sunroof available\")\n",
    "\n",
    "o1 = Hatchback(\"Mini cooper\", \"v3\", \"Silver\")\n",
    "o2 = Suv(\"Range rover\", \"Velar\", \"White\")\n",
    "\n",
    "o1.displaydetails()\n",
    "o1.break_applied()\n",
    "o1.sunroof()\n",
    "\n",
    "print()\n",
    "\n",
    "o2.displaydetails()\n",
    "o2.accelerate()\n",
    "o2.sunroof()"
   ]
  }
 ],
 "metadata": {
  "kernelspec": {
   "display_name": "Python 3 (ipykernel)",
   "language": "python",
   "name": "python3"
  },
  "language_info": {
   "codemirror_mode": {
    "name": "ipython",
    "version": 3
   },
   "file_extension": ".py",
   "mimetype": "text/x-python",
   "name": "python",
   "nbconvert_exporter": "python",
   "pygments_lexer": "ipython3",
   "version": "3.12.0"
  }
 },
 "nbformat": 4,
 "nbformat_minor": 5
}
