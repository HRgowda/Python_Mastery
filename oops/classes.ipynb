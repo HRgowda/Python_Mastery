{
 "cells": [
  {
   "cell_type": "code",
   "execution_count": 10,
   "id": "307c3f1c-d086-4932-8f75-75d95eeec45f",
   "metadata": {},
   "outputs": [
    {
     "name": "stdout",
     "output_type": "stream",
     "text": [
      "Hello, i'm Buddy. I belong to Pitbull species and i'm 5 years old\n"
     ]
    }
   ],
   "source": [
    "# Classes: A set of objects which acts as a blueprint for creating objects. It contains the attribute's and methods that the created objects can have.\n",
    "class Dog:\n",
    "    \n",
    "    species = \"Pitbull\" # this is called as attribute of a class or also known as variable. This is also know an class variable and is shared across all instances of a class.\n",
    "    \n",
    "    def __init__(self, name, age): # this is known as init method that automatically initialises object attributes when a new object is created.\n",
    "        # name and age are known as instance variables which are unique to each instance of a class.\n",
    "        self.name = name # self is a reference to the current object ( instance ) of a class\n",
    "        self.age = age\n",
    "        \n",
    "    def __str__(self): # this is known as string method which is used to define custom string representation of an abject\n",
    "        return f\"Hello, i'm {self.name}. I belong to {self.species} species and i'm {self.age} years old\"\n",
    "     # suppose if we want to represent string only for a specific object then change the method name from __str__ to your desired name and then call that method from your instance.\n",
    "     # 2. We can also call them conditionally by adding an additional attribute to the __init__ method with setting it as false at inital and then setting it to true fo\n",
    "\n",
    "dog1 = Dog(\"Buddy\", 5)        \n",
    "print(dog1)"
   ]
  },
  {
   "cell_type": "code",
   "execution_count": 2,
   "id": "1354cd2c-688f-4f11-ab14-2c99a14ea11a",
   "metadata": {},
   "outputs": [
    {
     "name": "stdout",
     "output_type": "stream",
     "text": [
      "Hello, my name is bruno\n"
     ]
    }
   ],
   "source": [
    "# Purpose of self \n",
    "class Dog:\n",
    "\n",
    "    breed = \"Pitbull\"\n",
    "\n",
    "    # Note: self must be the first paramter of any method inside the class.\n",
    "    def __init__(self, name): # purpose of self is it allows us to access and modify the object attributes making it independent of others.\n",
    "        self.name = name\n",
    "    def __str__(self):\n",
    "        return f\"Hello, my name is {self.name}\"\n",
    "\n",
    "# Without self python wouldn't know which instance's attribute or method to refer to.\n",
    "dog1 = Dog(\"bruno\")\n",
    "print(dog1)"
   ]
  },
  {
   "cell_type": "code",
   "execution_count": 4,
   "id": "154fdad6-6acb-45e7-9dfb-343f890dbadb",
   "metadata": {},
   "outputs": [
    {
     "name": "stdout",
     "output_type": "stream",
     "text": [
      "Address of self is: 2639498495952\n",
      "address of the class object is: 2639498495952\n"
     ]
    }
   ],
   "source": [
    "# Self: Pointer to the current object\n",
    "class Dog:\n",
    "\n",
    "    def __init__(self, name):\n",
    "        print(\"Address of self is:\", id(self))\n",
    "# whenever a new object is created to a class \"self\" points to the current object's memory location allowing us to access and modify attribute and methods of that instance.\n",
    "dog1 = Dog(\"Bruno\")\n",
    "print(\"address of the class object is:\", id(dog1))"
   ]
  },
  {
   "cell_type": "code",
   "execution_count": 5,
   "id": "cdfe9c0d-2a82-4b76-9c05-95c664d00687",
   "metadata": {},
   "outputs": [
    {
     "data": {
      "text/plain": [
       "2"
      ]
     },
     "execution_count": 5,
     "metadata": {},
     "output_type": "execute_result"
    }
   ],
   "source": [
    "# Methods to modify class state using \"self\"\n",
    "\n",
    "class Counter:\n",
    "    def __init__(self):\n",
    "        self.count = 0\n",
    "    def increment(self):\n",
    "        self.count += 1\n",
    "    def decrement(self):\n",
    "        self.count -= 1\n",
    "    def currentCount(self):\n",
    "        return self.count\n",
    "\n",
    "counter = Counter()\n",
    "counter.increment()\n",
    "counter.decrement()\n",
    "counter.increment()\n",
    "counter.increment()\n",
    "counter.currentCount()"
   ]
  },
  {
   "cell_type": "code",
   "execution_count": 2,
   "id": "adb33374-7581-4e01-bf4d-29642ec3e241",
   "metadata": {},
   "outputs": [
    {
     "name": "stdout",
     "output_type": "stream",
     "text": [
      "Red\n",
      "78.5\n"
     ]
    }
   ],
   "source": [
    "# Python subclass\n",
    "class Shape: # super class or parent class\n",
    "    def __init__(self, color):\n",
    "        self.color = color\n",
    "    def area(self):\n",
    "        raise NotImplementedError(\"Subclass must implement this method\")\n",
    "        # pass\n",
    "\n",
    "class Circle(Shape): # subclass or child class\n",
    "    def __init__(self, color, radius):\n",
    "        super().__init__(color) # the super class constructor is called by using the super() keyword\n",
    "        self.radius = radius\n",
    "    def area(self):\n",
    "        return 3.14*self.radius**2\n",
    "\n",
    "a = Shape(\"Red\")\n",
    "print(a.color)\n",
    "c = Circle(\"Blue\", 5)\n",
    "print(c.area())"
   ]
  },
  {
   "cell_type": "code",
   "execution_count": 9,
   "id": "dcf6624e-f927-4e74-8aed-29ece5f99b38",
   "metadata": {},
   "outputs": [
    {
     "name": "stdout",
     "output_type": "stream",
     "text": [
      "Course name: Campus placement\n",
      "Duration: 2 months\n"
     ]
    }
   ],
   "source": [
    "class gfg:\n",
    "    def __init__(self):\n",
    "        self.course = \"Campus placement\"\n",
    "        self.duration = \"2 months\"\n",
    "        \n",
    "    def show(self):\n",
    "        print(\"Course name:\", self.course)\n",
    "        print(\"Duration:\", self.duration)\n",
    "\n",
    "outer = gfg()\n",
    "outer.show()"
   ]
  },
  {
   "cell_type": "code",
   "execution_count": 10,
   "id": "2b95c4d5-f735-475b-8e70-2500f2b9a79f",
   "metadata": {},
   "outputs": [
    {
     "name": "stdout",
     "output_type": "stream",
     "text": [
      "Name: Geeks for geeks\n",
      "Name: Green\n",
      "Color code: 0Ave3\n"
     ]
    }
   ],
   "source": [
    "# Inner class\n",
    "class Color:\n",
    "    def __init__(self):\n",
    "        self.name = \"Geeks for geeks\"\n",
    "        # Create inner class object\n",
    "        self.lg = self.LightGreen()\n",
    "    def show(self):\n",
    "        print(\"Name:\", self.name)\n",
    "        \n",
    "    class LightGreen:\n",
    "        def __init__(self):\n",
    "            self.name = \"Green\"\n",
    "            self.code = \"0Ave3\"\n",
    "        def show(self):\n",
    "            print(\"Name:\", self.name)\n",
    "            print(\"Color code:\", self.code)\n",
    "\n",
    "outer = Color()\n",
    "outer.show()\n",
    "\n",
    "inner = outer.lg\n",
    "inner.show()"
   ]
  },
  {
   "cell_type": "code",
   "execution_count": 2,
   "id": "1ff95add-c387-408a-a929-fcf9654f4430",
   "metadata": {},
   "outputs": [
    {
     "name": "stdout",
     "output_type": "stream",
     "text": [
      "Laptop name is HP\n",
      "Battery caacity: 5000mah\n"
     ]
    }
   ],
   "source": [
    "class Laptop:\n",
    "    \n",
    "    def __init__(self):\n",
    "        self.brand = \"HP\"\n",
    "        self.battery = self.Battery()\n",
    "        \n",
    "    def details(self):\n",
    "        print(f\"Laptop name is {self.brand}\")\n",
    "        self.battery.display()\n",
    "        \n",
    "    class Battery:\n",
    "        def __init__(self):\n",
    "            self.capacity = \"5000mah\"\n",
    "            \n",
    "        def display(self):\n",
    "            print(f\"Battery caacity: {self.capacity}\")\n",
    "\n",
    "outer = Laptop()\n",
    "outer.details()"
   ]
  },
  {
   "cell_type": "code",
   "execution_count": 15,
   "id": "44ac7e13-2abd-492f-9fd8-c1b00f492687",
   "metadata": {},
   "outputs": [
    {
     "name": "stdout",
     "output_type": "stream",
     "text": [
      "I'm outer class\n",
      "Name of the doctor is: Vivek\n",
      "\n",
      "First inner class\n",
      "Doctor name is John and qualification is MBBS\n",
      "\n",
      "Second inner class\n",
      "Doctor name is David and qualtification is MD\n"
     ]
    }
   ],
   "source": [
    "# Multiple Inner class\n",
    "# A class containing one or more inner class \n",
    "class Doctors:\n",
    "    def __init__(self):\n",
    "        self.name = \"Vivek\"\n",
    "        self.den = self.Dentist()\n",
    "        self.car = self.Cardiologist()\n",
    "    def show(self):\n",
    "        print(\"I'm outer class\")\n",
    "        print(\"Name of the doctor is:\", self.name)\n",
    "        \n",
    "    class Dentist:\n",
    "        def __init__(self):\n",
    "            self.name = \"John\"\n",
    "            self.edu = \"MBBS\"\n",
    "        def show(self):\n",
    "            print(\"First inner class\")\n",
    "            print(f\"Doctor name is {self.name} and qualification is {self.edu}\")\n",
    "            \n",
    "    class Cardiologist:\n",
    "        def __init__(self):\n",
    "            self.name = \"David\"\n",
    "            self.edu = \"MD\"\n",
    "        def show(self):\n",
    "            print(\"Second inner class\")\n",
    "            print(f\"Doctor name is {self.name} and qualtification is {self.edu}\")\n",
    "\n",
    "doctors = Doctors()\n",
    "doctors.show()\n",
    "print()\n",
    "d1 = doctors.den\n",
    "d2 = doctors.car\n",
    "\n",
    "d1.show()\n",
    "print()\n",
    "d2.show()"
   ]
  },
  {
   "cell_type": "code",
   "execution_count": 19,
   "id": "7be240d4-be98-43e5-8cb8-9c2d52df1215",
   "metadata": {},
   "outputs": [
    {
     "name": "stdout",
     "output_type": "stream",
     "text": [
      "Outer class\n",
      "\n",
      "Inner class\n",
      "\n",
      "Inner class of inner\n"
     ]
    }
   ],
   "source": [
    "# Multilevel inner class\n",
    "# A class containing a inner class and that inner class again contains another inner class\n",
    "class Outer:\n",
    "    def __init__(self):\n",
    "        self.inner = self.Inner()\n",
    "    def display(self):\n",
    "        print(\"Outer class\")\n",
    "    class Inner:\n",
    "        def __init__(self):\n",
    "            self.innerClassOfInner = self.InnerClassOfInner()\n",
    "        def display(self):\n",
    "            print(\"Inner class\")\n",
    "        class InnerClassOfInner:\n",
    "            def display(self):\n",
    "                print(\"Inner class of inner\")\n",
    "\n",
    "c1 = Outer()\n",
    "c1.display()\n",
    "print()\n",
    "\n",
    "i = c1.inner\n",
    "i.display()\n",
    "print()\n",
    "\n",
    "j = i.innerClassOfInner\n",
    "j.display()"
   ]
  },
  {
   "cell_type": "code",
   "execution_count": 5,
   "id": "5c493f10-38a7-486c-b973-118366070b39",
   "metadata": {},
   "outputs": [
    {
     "name": "stdout",
     "output_type": "stream",
     "text": [
      "<function value at 0x000001D7ACBF1760>\n",
      "geeks\n",
      "True\n"
     ]
    }
   ],
   "source": [
    "# Dynamic attribute's: These are the terminologies for attributes that are defined at runtime after creating the objects or instances.\n",
    "class gfg:\n",
    "    None\n",
    "\n",
    "def value():\n",
    "    return 10\n",
    "\n",
    "g1 = gfg()\n",
    "g1.data = value\n",
    "\n",
    "value.data = \"geeks\"\n",
    "\n",
    "print(g1.data)\n",
    "print(value.data)\n",
    "print(g1.data() == value())"
   ]
  },
  {
   "cell_type": "code",
   "execution_count": 6,
   "id": "49c6d798-74a7-4a6d-b72a-53cbc1aaf719",
   "metadata": {},
   "outputs": [
    {
     "name": "stdout",
     "output_type": "stream",
     "text": [
      "False\n",
      "True\n",
      "John\n"
     ]
    },
    {
     "ename": "AttributeError",
     "evalue": "'gfg' object has no attribute 'name'",
     "output_type": "error",
     "traceback": [
      "\u001b[1;31m---------------------------------------------------------------------------\u001b[0m",
      "\u001b[1;31mAttributeError\u001b[0m                            Traceback (most recent call last)",
      "Cell \u001b[1;32mIn[6], line 14\u001b[0m\n\u001b[0;32m     12\u001b[0m \u001b[38;5;28mprint\u001b[39m(e2\u001b[38;5;241m.\u001b[39memployee)\n\u001b[0;32m     13\u001b[0m \u001b[38;5;28mprint\u001b[39m(e2\u001b[38;5;241m.\u001b[39mname)\n\u001b[1;32m---> 14\u001b[0m \u001b[38;5;28mprint\u001b[39m(\u001b[43me1\u001b[49m\u001b[38;5;241;43m.\u001b[39;49m\u001b[43mname\u001b[49m)\n",
      "\u001b[1;31mAttributeError\u001b[0m: 'gfg' object has no attribute 'name'"
     ]
    }
   ],
   "source": [
    "# Ex: 2\n",
    "class gfg:\n",
    "    employee = True\n",
    "\n",
    "e1 = gfg()\n",
    "e2 = gfg()\n",
    "\n",
    "e1.employee = False\n",
    "e2.name = \"John\"\n",
    "\n",
    "print(e1.employee)\n",
    "print(e2.employee)\n",
    "print(e2.name)\n",
    "print(e1.name) # This will raise an error as 'name' is a dynamic attribute created only for the e2 object ( instance )"
   ]
  },
  {
   "cell_type": "code",
   "execution_count": null,
   "id": "d7f70d64-a8f4-4e75-83d8-43553b186719",
   "metadata": {},
   "outputs": [],
   "source": [
    "# Constructor's : These are the special methods which are automatically called when an object (instance) is created from a class."
   ]
  },
  {
   "cell_type": "code",
   "execution_count": null,
   "id": "9479036d-1b62-4ee7-9728-ed7d9f0db78b",
   "metadata": {},
   "outputs": [],
   "source": []
  }
 ],
 "metadata": {
  "kernelspec": {
   "display_name": "Python 3 (ipykernel)",
   "language": "python",
   "name": "python3"
  },
  "language_info": {
   "codemirror_mode": {
    "name": "ipython",
    "version": 3
   },
   "file_extension": ".py",
   "mimetype": "text/x-python",
   "name": "python",
   "nbconvert_exporter": "python",
   "pygments_lexer": "ipython3",
   "version": "3.12.0"
  }
 },
 "nbformat": 4,
 "nbformat_minor": 5
}
