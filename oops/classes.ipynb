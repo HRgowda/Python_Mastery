{
 "cells": [
  {
   "cell_type": "code",
   "execution_count": 10,
   "id": "307c3f1c-d086-4932-8f75-75d95eeec45f",
   "metadata": {},
   "outputs": [
    {
     "name": "stdout",
     "output_type": "stream",
     "text": [
      "Hello, i'm Buddy. I belong to Pitbull species and i'm 5 years old\n"
     ]
    }
   ],
   "source": [
    "# Classes\n",
    "class Dog:\n",
    "    \n",
    "    species = \"Pitbull\" # this is called as attribute of a class or also known as variable. This is also know an class variable and is shared across all instances of a class.\n",
    "    \n",
    "    def __init__(self, name, age): # this is known as init method that automatically initialises object atrributes when an new object is created.\n",
    "        # name and age are known as instance variables which are unique to each instance of a class.\n",
    "        self.name = name # self is a reference to the current obejct ( instance ) of a class\n",
    "        self.age = age\n",
    "        \n",
    "    def __str__(self): # this is known as string method which is used to define custom string representation of an abject\n",
    "        return f\"Hello, i'm {self.name}. I belong to {self.species} species and i'm {self.age} years old\"\n",
    "     # suppose if we want to represent string only for a specific object then change the method name from __str__ to your desired name and then call that method from your instance.\n",
    "     # 2. We can also call them conditionally by adding an additional attribute to the __init__ method with setting it as false at inital and then setting it to true fo\n",
    "\n",
    "dog1 = Dog(\"Buddy\", 5)        \n",
    "print(dog1)"
   ]
  },
  {
   "cell_type": "code",
   "execution_count": null,
   "id": "fc82d861-2d56-44e4-a8f7-e2b428c91a4a",
   "metadata": {},
   "outputs": [],
   "source": []
  }
 ],
 "metadata": {
  "kernelspec": {
   "display_name": "Python 3 (ipykernel)",
   "language": "python",
   "name": "python3"
  },
  "language_info": {
   "codemirror_mode": {
    "name": "ipython",
    "version": 3
   },
   "file_extension": ".py",
   "mimetype": "text/x-python",
   "name": "python",
   "nbconvert_exporter": "python",
   "pygments_lexer": "ipython3",
   "version": "3.12.0"
  }
 },
 "nbformat": 4,
 "nbformat_minor": 5
}
