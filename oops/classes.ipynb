{
 "cells": [
  {
   "cell_type": "code",
   "execution_count": 10,
   "id": "307c3f1c-d086-4932-8f75-75d95eeec45f",
   "metadata": {},
   "outputs": [
    {
     "name": "stdout",
     "output_type": "stream",
     "text": [
      "Hello, i'm Buddy. I belong to Pitbull species and i'm 5 years old\n"
     ]
    }
   ],
   "source": [
    "# Classes: A set of objects which acts as a blueprint for creating objects. It contains the attribute's and methods that the created objects can have.\n",
    "class Dog:\n",
    "    \n",
    "    species = \"Pitbull\" # this is called as attribute of a class or also known as variable. This is also know an class variable and is shared across all instances of a class.\n",
    "    \n",
    "    def __init__(self, name, age): # this is known as init method that automatically initialises object attributes when a new object is created.\n",
    "        # name and age are known as instance variables which are unique to each instance of a class.\n",
    "        self.name = name # self is a reference to the current object ( instance ) of a class\n",
    "        self.age = age\n",
    "        \n",
    "    def __str__(self): # this is known as string method which is used to define custom string representation of an abject\n",
    "        return f\"Hello, i'm {self.name}. I belong to {self.species} species and i'm {self.age} years old\"\n",
    "     # suppose if we want to represent string only for a specific object then change the method name from __str__ to your desired name and then call that method from your instance.\n",
    "     # 2. We can also call them conditionally by adding an additional attribute to the __init__ method with setting it as false at inital and then setting it to true fo\n",
    "\n",
    "dog1 = Dog(\"Buddy\", 5)        \n",
    "print(dog1)"
   ]
  },
  {
   "cell_type": "code",
   "execution_count": 2,
   "id": "1354cd2c-688f-4f11-ab14-2c99a14ea11a",
   "metadata": {},
   "outputs": [
    {
     "name": "stdout",
     "output_type": "stream",
     "text": [
      "Hello, my name is bruno\n"
     ]
    }
   ],
   "source": [
    "# Purpose of self \n",
    "class Dog:\n",
    "\n",
    "    breed = \"Pitbull\"\n",
    "\n",
    "    # Note: self must be the first paramter of any method inside the class.\n",
    "    def __init__(self, name): # purpose of self is it allows us to access and modify the object attributes making it independent of others.\n",
    "        self.name = name\n",
    "    def __str__(self):\n",
    "        return f\"Hello, my name is {self.name}\"\n",
    "\n",
    "# Without self python wouldn't know which instance's attribute or method to refer to.\n",
    "dog1 = Dog(\"bruno\")\n",
    "print(dog1)"
   ]
  },
  {
   "cell_type": "code",
   "execution_count": 4,
   "id": "154fdad6-6acb-45e7-9dfb-343f890dbadb",
   "metadata": {},
   "outputs": [
    {
     "name": "stdout",
     "output_type": "stream",
     "text": [
      "Address of self is: 2639498495952\n",
      "address of the class object is: 2639498495952\n"
     ]
    }
   ],
   "source": [
    "# Self: Pointer to the current object\n",
    "class Dog:\n",
    "\n",
    "    def __init__(self, name):\n",
    "        print(\"Address of self is:\", id(self))\n",
    "# whenever a new object is created to a class \"self\" points to the current object's memory location allowing us to access and modify attribute and methods of that instance.\n",
    "dog1 = Dog(\"Bruno\")\n",
    "print(\"address of the class object is:\", id(dog1))"
   ]
  },
  {
   "cell_type": "code",
   "execution_count": 5,
   "id": "cdfe9c0d-2a82-4b76-9c05-95c664d00687",
   "metadata": {},
   "outputs": [
    {
     "data": {
      "text/plain": [
       "2"
      ]
     },
     "execution_count": 5,
     "metadata": {},
     "output_type": "execute_result"
    }
   ],
   "source": [
    "# Methods to modify class state using \"self\"\n",
    "\n",
    "class Counter:\n",
    "    def __init__(self):\n",
    "        self.count = 0\n",
    "    def increment(self):\n",
    "        self.count += 1\n",
    "    def decrement(self):\n",
    "        self.count -= 1\n",
    "    def currentCount(self):\n",
    "        return self.count\n",
    "\n",
    "counter = Counter()\n",
    "counter.increment()\n",
    "counter.decrement()\n",
    "counter.increment()\n",
    "counter.increment()\n",
    "counter.currentCount()"
   ]
  }
 ],
 "metadata": {
  "kernelspec": {
   "display_name": "Python 3 (ipykernel)",
   "language": "python",
   "name": "python3"
  },
  "language_info": {
   "codemirror_mode": {
    "name": "ipython",
    "version": 3
   },
   "file_extension": ".py",
   "mimetype": "text/x-python",
   "name": "python",
   "nbconvert_exporter": "python",
   "pygments_lexer": "ipython3",
   "version": "3.12.0"
  }
 },
 "nbformat": 4,
 "nbformat_minor": 5
}
