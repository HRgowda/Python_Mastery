{
 "cells": [
  {
   "cell_type": "code",
   "execution_count": null,
   "id": "465da532-eed4-4ae2-a273-00578c7181b5",
   "metadata": {},
   "outputs": [],
   "source": [
    "# It is a fundamental concept in programming that allows entities, functions and operators to behave differently based on the type of data they are handling."
   ]
  },
  {
   "cell_type": "code",
   "execution_count": 5,
   "id": "fd90f3b0-0b33-4782-921f-342d04f23268",
   "metadata": {},
   "outputs": [
    {
     "name": "stdout",
     "output_type": "stream",
     "text": [
      "Area of Rectangle is 6\n",
      "Area of Circle is 50.24\n"
     ]
    }
   ],
   "source": [
    "# Polymorphism allows different classes to have same name but perform different tasks.\n",
    "class Shape:\n",
    "    def area(self):\n",
    "        return \"Undefined\"\n",
    "\n",
    "class Rectangle(Shape):\n",
    "    def __init__(self, length, breadth):\n",
    "        self.l = length\n",
    "        self.b = breadth\n",
    "    def area(self):\n",
    "        return \"Rectangle\", self.l * self.b\n",
    "\n",
    "class Circle(Shape):\n",
    "    def __init__(self, radius):\n",
    "        self.r = radius\n",
    "\n",
    "    def area(self):\n",
    "        return \"Circle\", 3.14 * self.r ** 2\n",
    "\n",
    "o1= [Rectangle(2, 3), Circle(4)]\n",
    "for i in o1:\n",
    "    name, area = i.area()\n",
    "    print(f\"Area of {name} is {area}\")"
   ]
  },
  {
   "cell_type": "code",
   "execution_count": null,
   "id": "e5741045-abff-4f23-97d4-8ca3d9fb0d7c",
   "metadata": {},
   "outputs": [],
   "source": [
    "# There are two types of polymorphism.\n",
    "1. Compile time polymorphism ( Method overloading and operator overloading )\n",
    "2. Run time polymorphism ( Method overriding and operator overriding )"
   ]
  },
  {
   "cell_type": "code",
   "execution_count": 7,
   "id": "97106dbc-1b63-48de-95ab-6748a00d073c",
   "metadata": {},
   "outputs": [
    {
     "name": "stdout",
     "output_type": "stream",
     "text": [
      "Quack!\n",
      "I'm a dog, but i can quack too!\n"
     ]
    }
   ],
   "source": [
    "# Duck typing in python:\n",
    "# It is based on the idea \"If it looks like duck, swim like duck or quack like duck then it is a duck\"\n",
    "# This means that the type of an object is determined by its behaviour ( methods and properties ) rather than its actual class.\n",
    "class Duck:\n",
    "    def quack(self):\n",
    "        print(\"Quack!\")\n",
    "\n",
    "class Dog:\n",
    "    def quack(self):\n",
    "        print(\"I'm a dog, but i can quack too!\")\n",
    "\n",
    "def make_it_quack(obj):\n",
    "    obj.quack()\n",
    "\n",
    "o1 = Duck()\n",
    "o2 = Dog()\n",
    "make_it_quack(o1)\n",
    "make_it_quack(o2)"
   ]
  }
 ],
 "metadata": {
  "kernelspec": {
   "display_name": "Python 3 (ipykernel)",
   "language": "python",
   "name": "python3"
  },
  "language_info": {
   "codemirror_mode": {
    "name": "ipython",
    "version": 3
   },
   "file_extension": ".py",
   "mimetype": "text/x-python",
   "name": "python",
   "nbconvert_exporter": "python",
   "pygments_lexer": "ipython3",
   "version": "3.12.0"
  }
 },
 "nbformat": 4,
 "nbformat_minor": 5
}
