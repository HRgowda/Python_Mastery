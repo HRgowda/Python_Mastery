{
 "cells": [
  {
   "cell_type": "code",
   "execution_count": null,
   "id": "32bf61a0-6d8b-47d0-9a0f-3a1e565d4551",
   "metadata": {},
   "outputs": [],
   "source": [
    "# Inheritence is one of the popular oops concept where the child or derived class inherits the attribute and methods from the parent or base class.\n",
    "\n",
    "# Syntax of Inheritence\n",
    "\n",
    "class ParentClass: # This is the base class from which other classes inherits.\n",
    "    # parent class code here\n",
    "    pass\n",
    "\n",
    "class ChildClass(ParentClass): # This is the derived class which inherits from the parent class.\n",
    "    # child class code here. \n",
    "    # If the child class does not define its own __init__() method, it will automatically inherit the one from the parent class.\n",
    "    pass"
   ]
  },
  {
   "cell_type": "code",
   "execution_count": null,
   "id": "b353d5c6-0ea4-4903-a353-d1ef8c82223f",
   "metadata": {},
   "outputs": [],
   "source": [
    "# Add Properties : Once inheritence is established, both the parent and child classess can have their own properties.\n",
    "# Properties are attrbiuts that belong to a class and are used to store data.\n",
    "\n",
    "class Person:\n",
    "    def __init__(self, name, idnumber):\n",
    "        self.name = name\n",
    "        self.idnumber = idnumber\n",
    "    def display(self):\n",
    "        print(f\"{self.name} and {self.number}\")\n",
    "\n",
    "class Employee(Person):\n",
    "    def __init__(self, name, idnumber, salary, post):\n",
    "        super().__init__(name, idnumber)\n",
    "        self.salary = salary\n",
    "        self.post = post\n",
    "        \n",
    "# Here Person class has properties name and idnumber. Employee class adds properties , salary and post.\n",
    "# The properties are initialised when an object is created, and they represent the specific data related to the Person and Employee."
   ]
  },
  {
   "cell_type": "code",
   "execution_count": null,
   "id": "a2ad6846-a8b9-420c-8782-0a1bd188165a",
   "metadata": {},
   "outputs": [],
   "source": [
    "# Types of Python Inheritence\n",
    "1. Single inheritence : A child class inherits from one parent class.\n",
    "2. Multiple inheritence : A child class inherits from more than one parent class.\n",
    "3. Multilevel inheritence : A class is derived from a class which is also derived from another class.\n",
    "4. Hierarchical inheritence : Multiple classes inherit from a single parent class.\n",
    "5. Hybrid inheritence : A combination of more than one type of inheritence."
   ]
  },
  {
   "cell_type": "code",
   "execution_count": 5,
   "id": "be19f22d-9a07-46e8-abf3-7466b63b28d0",
   "metadata": {},
   "outputs": [
    {
     "name": "stdout",
     "output_type": "stream",
     "text": [
      "John 50000\n",
      "Alice 30000\n",
      "Bob 60000 HR\n",
      "Charlie 45000 10\n",
      "Davide 100000 Finance 20\n"
     ]
    }
   ],
   "source": [
    "# Single inheritence\n",
    "class Person:\n",
    "    def __init__(self, name):\n",
    "        self.name = name\n",
    "\n",
    "class Employee(Person):\n",
    "    def __init__(self, name, salary):\n",
    "        super().__init__(name)\n",
    "        self.salary = salary\n",
    "\n",
    "# Multiple inheritence\n",
    "class Job:\n",
    "    def __init__(self, salary):\n",
    "        self.salary = salary\n",
    "\n",
    "class EmployeePersonJob(Employee, Job):\n",
    "    def __init__(self, name, salary):\n",
    "        Employee.__init__(self, name, salary)\n",
    "        Job.__init__(self, salary)\n",
    "\n",
    "# Multilevel Inheritence\n",
    "class Manager(EmployeePersonJob):\n",
    "    def __init__(self, name, salary, department):\n",
    "        EmployeePersonJob.__init__(self, name, salary)\n",
    "        self.department = department\n",
    "\n",
    "# Hierarchical Inheritence\n",
    "class AssistantManager(EmployeePersonJob):\n",
    "    def __init__(self, name, salary, team_size):\n",
    "        super().__init__(name, salary) # note when using super() keyword the self is passed automatically by the super() keyword. \n",
    "        self.team_size = team_size\n",
    "\n",
    "# Hybrid Inheritence\n",
    "class SeniorManager(Manager, AssistantManager):\n",
    "    def __init__(self, name, salary, department, team_size):\n",
    "        Manager.__init__(self, name, salary, department)\n",
    "        AssistantManager.__init__(self, name, salary, team_size)\n",
    "\n",
    "emp = Employee(\"John\", 50000)\n",
    "print(emp.name, emp.salary)\n",
    "\n",
    "emp2 = EmployeePersonJob(\"Alice\", 30000)\n",
    "print(emp2.name, emp2.salary)\n",
    "\n",
    "mgr = Manager(\"Bob\", 60000, \"HR\")\n",
    "print(mgr.name, mgr.salary, mgr.department)\n",
    "\n",
    "asst_mgr = AssistantManager(\"Charlie\", 45000, 10)\n",
    "print(asst_mgr.name, asst_mgr.salary, asst_mgr.team_size)\n",
    "\n",
    "sen_mgr = SeniorManager(\"Davide\", 100000, \"Finance\", 20)\n",
    "print(sen_mgr.name, sen_mgr.salary, sen_mgr.department, sen_mgr.team_size)"
   ]
  },
  {
   "cell_type": "code",
   "execution_count": null,
   "id": "f0cbc577-1510-4a16-a99e-de3a905e6ea0",
   "metadata": {},
   "outputs": [],
   "source": [
    "# Method overloading and Method overriding\n",
    "1. Method Overloading is when multiple methods has same name but different parameters within a single class.\n",
    "2. Method Overriding is an ability by the sub-class that allows to redifine a method which is already provided by the parent class with the same\n",
    "    signature to provide a specific implementation."
   ]
  },
  {
   "cell_type": "code",
   "execution_count": 8,
   "id": "7f176f31-835b-408a-a039-7b648941225f",
   "metadata": {},
   "outputs": [
    {
     "name": "stdout",
     "output_type": "stream",
     "text": [
      "Inside parent class\n",
      "\n",
      "Inside child class\n"
     ]
    }
   ],
   "source": [
    "# Method overriding : It is an ability of any oop language that allows a sub-class to provide a specific implementation of method that is already \n",
    "# provided by one of its super class.\n",
    "\n",
    "# super().__init__() this ensures that the parent class's constructor is called, initializing any attributes defined in the parent class.\n",
    "class Parent():\n",
    "    def __init__(self):\n",
    "        self.value = \"Inside parent class\"\n",
    "    def show(self):\n",
    "        print(f\"{self.value}\")\n",
    "\n",
    "class Child(Parent):\n",
    "    def __init__(self):\n",
    "        super().__init__()\n",
    "        self.value = \"Inside child class\"\n",
    "    def show(self):\n",
    "        print(f\"{self.value}\")\n",
    "\n",
    "o1 = Parent()\n",
    "o1.show()\n",
    "print()\n",
    "o2 = Child()\n",
    "o2.show()"
   ]
  },
  {
   "cell_type": "code",
   "execution_count": 12,
   "id": "0bb0dcf9-4f95-4b08-9d9a-f949272cde53",
   "metadata": {},
   "outputs": [
    {
     "name": "stdout",
     "output_type": "stream",
     "text": [
      "Inside child class\n",
      "Mother class\n"
     ]
    }
   ],
   "source": [
    "# Method overrding in Multiple inheritence\n",
    "class Father():\n",
    "    def __init__(self):\n",
    "        self.value = \"Father class\"\n",
    "    def show(self):\n",
    "        print(f\"{self.value}\")\n",
    "\n",
    "class Mother():\n",
    "    def __init__(self):\n",
    "        self.value = \"Mother class\"\n",
    "    def display(self):\n",
    "        print(f\"{self.value}\")\n",
    "\n",
    "class Child(Father, Mother):\n",
    "    def __init__(self):\n",
    "        Father.__init__(self)\n",
    "        Mother.__init__(self)\n",
    "        \n",
    "    def show(self):\n",
    "        print(\"Inside child class\")\n",
    "\n",
    "c1 = Child()\n",
    "c1.show()\n",
    "c1.display()    "
   ]
  },
  {
   "cell_type": "code",
   "execution_count": 27,
   "id": "c7d0aaa8-4ac9-4b4e-afde-25bea4645477",
   "metadata": {},
   "outputs": [
    {
     "name": "stdout",
     "output_type": "stream",
     "text": [
      "Inside parent class\n",
      "Inside child class\n",
      "Inside grandchild class\n"
     ]
    }
   ],
   "source": [
    "# Method overriding in Multilevel inheritence\n",
    "class Parent():\n",
    "    def display(self):\n",
    "        print(\"Inside parent class\")\n",
    "\n",
    "class Child(Parent):\n",
    "    def show(self):\n",
    "        print(\"Inside child class\")\n",
    "\n",
    "class GrandChild(Child):\n",
    "    \n",
    "    # def __init__(self):\n",
    "    #     Parent.__init__(self)\n",
    "        \n",
    "    def show(self):\n",
    "        Child.show(self)\n",
    "        print(\"Inside grandchild class\")\n",
    "\n",
    "c1 = GrandChild()\n",
    "c1.display()\n",
    "c1.show()"
   ]
  },
  {
   "cell_type": "code",
   "execution_count": null,
   "id": "7ca11a3b-5b1f-4ee4-88c2-a8b2dd9bb85a",
   "metadata": {},
   "outputs": [],
   "source": [
    "# Calling the Parent's method within the overridden method\n",
    "# Parent's method can also be called within the overriden methods. This can generally achieved by two ways.\n",
    "\n",
    "# 1. By calling the Parent classname.method inside the overriden method.\n",
    "# 2. By using the super() function it provides us the facility to refer the parent class explicitly."
   ]
  },
  {
   "cell_type": "code",
   "execution_count": 2,
   "id": "1d452a52-b820-4019-bc96-95db74065eb1",
   "metadata": {},
   "outputs": [
    {
     "name": "stdout",
     "output_type": "stream",
     "text": [
      "Parent class\n",
      "Child class\n",
      "Inside grandchild class\n"
     ]
    }
   ],
   "source": [
    "# Method 1 using className.method\n",
    "\n",
    "class Parent():\n",
    "    def show(self):\n",
    "        print(\"Parent class\")\n",
    "\n",
    "class Child(Parent):\n",
    "    def show(self):\n",
    "        print(\"Child class\")\n",
    "\n",
    "class grandChild(Child):\n",
    "    def show(self):\n",
    "        Parent.show(self)\n",
    "        Child.show(self)\n",
    "        print(\"Inside grandchild class\")\n",
    "\n",
    "q1 = grandChild()\n",
    "q1.show()"
   ]
  },
  {
   "cell_type": "code",
   "execution_count": 4,
   "id": "e46cbae4-e0aa-46ed-b213-8a626848d4ff",
   "metadata": {},
   "outputs": [
    {
     "name": "stdout",
     "output_type": "stream",
     "text": [
      "Parent class\n",
      "Child class\n",
      "Grand child class\n"
     ]
    }
   ],
   "source": [
    "# Method 2 using super() function\n",
    "class Parent():\n",
    "    def show(self):\n",
    "        print(\"Parent class\")\n",
    "\n",
    "class Child(Parent):\n",
    "    def show(self):\n",
    "        super().show()\n",
    "        print(\"Child class\")\n",
    "\n",
    "class grandChild(Child):\n",
    "    def show(self):\n",
    "        super().show()\n",
    "        print(\"Grand child class\")\n",
    "\n",
    "o1 = grandChild()\n",
    "o1.show()"
   ]
  },
  {
   "cell_type": "code",
   "execution_count": 5,
   "id": "e4e185ac-ed3a-4513-ab2c-d9d0387ee232",
   "metadata": {},
   "outputs": [
    {
     "name": "stdout",
     "output_type": "stream",
     "text": [
      "Nothing to display\n",
      "10\n",
      "30\n"
     ]
    }
   ],
   "source": [
    "# Method overloading refers to the ability to have multiple methods with same name but different parameters within the same class.\n",
    "class Example:\n",
    "    def display(self, a=None, b=None):\n",
    "        if a is not None and b is not None:\n",
    "            print(a + b)\n",
    "        elif a is not None:\n",
    "            print(a)\n",
    "        else:\n",
    "            print(\"Nothing to display\")\n",
    "\n",
    "obj = Example()\n",
    "obj.display()\n",
    "obj.display(10)\n",
    "obj.display(10, 20)"
   ]
  }
 ],
 "metadata": {
  "kernelspec": {
   "display_name": "Python 3 (ipykernel)",
   "language": "python",
   "name": "python3"
  },
  "language_info": {
   "codemirror_mode": {
    "name": "ipython",
    "version": 3
   },
   "file_extension": ".py",
   "mimetype": "text/x-python",
   "name": "python",
   "nbconvert_exporter": "python",
   "pygments_lexer": "ipython3",
   "version": "3.12.0"
  }
 },
 "nbformat": 4,
 "nbformat_minor": 5
}
