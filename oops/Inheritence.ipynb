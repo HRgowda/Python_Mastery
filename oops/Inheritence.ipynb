{
 "cells": [
  {
   "cell_type": "code",
   "execution_count": null,
   "id": "32bf61a0-6d8b-47d0-9a0f-3a1e565d4551",
   "metadata": {},
   "outputs": [],
   "source": [
    "# Inheritence is one of the popular oops concept where the child or derived class inherits the attribute and methods from the parent or base class.\n",
    "\n",
    "# Syntax of Inheritence\n",
    "\n",
    "class ParentClass: # This is the base class from which other classes inherits.\n",
    "    # parent class code here\n",
    "    pass\n",
    "\n",
    "class ChildClass(ParentClass): # This is the derived class which inherits from the parent class.\n",
    "    # child class code here. \n",
    "    # If the child class does not define its own __init__() method, it will automatically inherit the one from the parent class.\n",
    "    pass"
   ]
  },
  {
   "cell_type": "code",
   "execution_count": null,
   "id": "b353d5c6-0ea4-4903-a353-d1ef8c82223f",
   "metadata": {},
   "outputs": [],
   "source": [
    "# Add Properties : Once inheritence is established, both the parent and child classess can have their own properties.\n",
    "# Properties are attrbiuts that belong to a class and are used to store data.\n",
    "\n",
    "class Person:\n",
    "    def __init__(self, name, idnumber):\n",
    "        self.name = name\n",
    "        self.idnumber = idnumber\n",
    "    def display(self):\n",
    "        print(f\"{self.name} and {self.number}\")\n",
    "\n",
    "class Employee(Person):\n",
    "    def __init__(self, name, idnumber, salary, post):\n",
    "        super().__init__(name, idnumber)\n",
    "        self.salary = salary\n",
    "        self.post = post\n",
    "        \n",
    "# Here Person class has properties name and idnumber. Employee class adds properties , salary and post.\n",
    "# The properties are initialised when an object is created, and they represent the specific data related to the Person and Employee."
   ]
  },
  {
   "cell_type": "code",
   "execution_count": null,
   "id": "a2ad6846-a8b9-420c-8782-0a1bd188165a",
   "metadata": {},
   "outputs": [],
   "source": [
    "# Types of Python Inheritence\n",
    "1. Single inheritence : A child class inherits from one parent class.\n",
    "2. Multiple inheritence : A child class inherits from more than on parent class.\n",
    "3. Multilevel inheritence : A class is derived from a class which is also derived from another class.\n",
    "4. Hierarchical inheritence : Multiple classes inherit from a single parent class.\n",
    "5. Hybrid inheritence : A combination of more than one type of inheritence."
   ]
  },
  {
   "cell_type": "code",
   "execution_count": 5,
   "id": "be19f22d-9a07-46e8-abf3-7466b63b28d0",
   "metadata": {},
   "outputs": [
    {
     "name": "stdout",
     "output_type": "stream",
     "text": [
      "John 50000\n",
      "Alice 30000\n",
      "Bob 60000 HR\n",
      "Charlie 45000 10\n",
      "Davide 100000 Finance 20\n"
     ]
    }
   ],
   "source": [
    "\n",
    "# Single inheritence\n",
    "class Person:\n",
    "    def __init__(self, name):\n",
    "        self.name = name\n",
    "\n",
    "class Employee(Person):\n",
    "    def __init__(self, name, salary):\n",
    "        super().__init__(name)\n",
    "        self.salary = salary\n",
    "\n",
    "# Multiple inheritence\n",
    "class Job:\n",
    "    def __init__(self, salary):\n",
    "        self.salary = salary\n",
    "\n",
    "class EmployeePersonJob(Employee, Job):\n",
    "    def __init__(self, name, salary):\n",
    "        Employee.__init__(self, name, salary)\n",
    "        Job.__init__(self, salary)\n",
    "\n",
    "# Multilevel Inheritence\n",
    "class Manager(EmployeePersonJob):\n",
    "    def __init__(self, name, salary, department):\n",
    "        EmployeePersonJob.__init__(self, name, salary)\n",
    "        self.department = department\n",
    "\n",
    "# Hierarchical Inheritence\n",
    "class AssistantManager(EmployeePersonJob):\n",
    "    def __init__(self, name, salary, team_size):\n",
    "        super().__init__(name, salary) # note when using super() keyword the self is passed automatically by the super() keyword. \n",
    "        self.team_size = team_size\n",
    "\n",
    "# Hybrid Inheritence\n",
    "class SeniorManager(Manager, AssistantManager):\n",
    "    def __init__(self, name, salary, department, team_size):\n",
    "        Manager.__init__(self, name, salary, department)\n",
    "        AssistantManager.__init__(self, name, salary, team_size)\n",
    "\n",
    "emp = Employee(\"John\", 50000)\n",
    "print(emp.name, emp.salary)\n",
    "\n",
    "emp2 = EmployeePersonJob(\"Alice\", 30000)\n",
    "print(emp2.name, emp2.salary)\n",
    "\n",
    "mgr = Manager(\"Bob\", 60000, \"HR\")\n",
    "print(mgr.name, mgr.salary, mgr.department)\n",
    "\n",
    "asst_mgr = AssistantManager(\"Charlie\", 45000, 10)\n",
    "print(asst_mgr.name, asst_mgr.salary, asst_mgr.team_size)\n",
    "\n",
    "sen_mgr = SeniorManager(\"Davide\", 100000, \"Finance\", 20)\n",
    "print(sen_mgr.name, sen_mgr.salary, sen_mgr.department, sen_mgr.team_size)\n",
    "        "
   ]
  }
 ],
 "metadata": {
  "kernelspec": {
   "display_name": "Python 3 (ipykernel)",
   "language": "python",
   "name": "python3"
  },
  "language_info": {
   "codemirror_mode": {
    "name": "ipython",
    "version": 3
   },
   "file_extension": ".py",
   "mimetype": "text/x-python",
   "name": "python",
   "nbconvert_exporter": "python",
   "pygments_lexer": "ipython3",
   "version": "3.12.0"
  }
 },
 "nbformat": 4,
 "nbformat_minor": 5
}
